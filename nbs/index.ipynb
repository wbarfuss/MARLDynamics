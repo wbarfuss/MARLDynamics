{
 "cells": [
  {
   "cell_type": "markdown",
   "metadata": {},
   "source": [
    "# MARLDynamics\n",
    "\n",
    "> Modeling multi-agent reinforcement learning as dynamical systems"
   ]
  },
  {
   "cell_type": "markdown",
   "metadata": {},
   "source": [
    "## Install\n",
    "* clone this repository onto your disk\n",
    "```sh\n",
    "git clone https://github.com/wbarfuss/MARLDynamics.git\n",
    "```"
   ]
  },
  {
   "cell_type": "markdown",
   "metadata": {},
   "source": [
    "* enter the repositories folder\n",
    "```sh\n",
    "cd MARLDynamics\n",
    "```"
   ]
  },
  {
   "cell_type": "markdown",
   "metadata": {},
   "source": [
    "* install locally\n",
    "```sh\n",
    "pip install .\n",
    "```"
   ]
  },
  {
   "cell_type": "markdown",
   "metadata": {},
   "source": [
    "## How to use"
   ]
  },
  {
   "cell_type": "code",
   "execution_count": null,
   "metadata": {},
   "outputs": [],
   "source": [
    "import numpy as np\n",
    "import matplotlib.pyplot as plt\n",
    "\n",
    "from MARLDynamics.Agents.StrategyActorCritic import stratAC\n",
    "from MARLDynamics.Environments.SocialDilemma import SocialDilemma\n",
    "from MARLDynamics.Utils import FlowPlot as fp\n",
    "\n",
    "# Init enviornment and MultiAgentEnvironment-interface\n",
    "env = SocialDilemma(R=1.0, T=0.8, S=-0.5, P=0.0)\n",
    "mae = stratAC(env=env, learning_rates=0.1, discount_factors=0.9)\n",
    "\n",
    "# Compute learning trajectory \n",
    "x = mae.random_softmax_strategy()  # from a random inital policy\n",
    "xtraj, fixedpointreached = mae.trajectory(x)\n",
    "\n",
    "# PLOT\n",
    "fig, axs = plt.subplots(1,2, figsize=(9,4))\n",
    "plt.subplots_adjust(wspace=0.3)\n",
    "\n",
    "# Plot in phase space\n",
    "x = ([0], [0], [0])\n",
    "y = ([1], [0], [0])\n",
    "ax = fp.plot_strategy_flow(mae, x, y, flowarrow_points = np.linspace(0.01 ,0.99, 9), axes=[axs[0]])\n",
    "fp.plot_trajectories([xtraj], x, y, cols=['purple'], axes=ax);\n",
    "ax[0].set_xlabel(\"Agent 0's cooperation probability\")\n",
    "ax[0].set_ylabel(\"Agent 1's cooperation probability\");\n",
    "ax[0].set_title(\"Flowplot\")\n",
    "\n",
    "# Plot in trajectory\n",
    "axs[1].plot(xtraj[:, 0, 0, 0], label=\"Agent 0\", c='red')\n",
    "axs[1].plot(xtraj[:, 1, 0, 0], label=\"Agent 1\", c='blue')\n",
    "axs[1].set_xlabel('Time steps')\n",
    "axs[1].set_ylabel('Cooperation probability')\n",
    "axs[1].legend()\n",
    "axs[1].set_title(\"Trajectory\");"
   ]
  }
 ],
 "metadata": {
  "kernelspec": {
   "display_name": "Python 3 (ipykernel)",
   "language": "python",
   "name": "python3"
  }
 },
 "nbformat": 4,
 "nbformat_minor": 4
}
